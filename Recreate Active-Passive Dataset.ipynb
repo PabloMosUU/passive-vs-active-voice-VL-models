{
 "cells": [
  {
   "cell_type": "code",
   "execution_count": null,
   "id": "c202afa1",
   "metadata": {},
   "outputs": [],
   "source": [
    "import a2p"
   ]
  },
  {
   "cell_type": "code",
   "execution_count": null,
   "id": "1813410a",
   "metadata": {},
   "outputs": [],
   "source": [
    "import json\n",
    "import pandas as pd"
   ]
  },
  {
   "cell_type": "code",
   "execution_count": null,
   "id": "860aaf87",
   "metadata": {},
   "outputs": [],
   "source": [
    "with open('../VALSE/data/actant-swap.json', 'r') as f:\n",
    "    data = json.load(f)"
   ]
  },
  {
   "cell_type": "code",
   "execution_count": null,
   "id": "8a67a8c2",
   "metadata": {},
   "outputs": [],
   "source": [
    "assert all([el.startswith('actions_test_') for el in data.keys()])"
   ]
  },
  {
   "cell_type": "code",
   "execution_count": null,
   "id": "825dfa3e",
   "metadata": {},
   "outputs": [],
   "source": [
    "numbers = [el.replace('actions_test_', '').strip() for el in data.keys()]\n",
    "assert len(numbers) == len(set(numbers))"
   ]
  },
  {
   "cell_type": "code",
   "execution_count": null,
   "id": "86994c9b",
   "metadata": {},
   "outputs": [],
   "source": [
    "assert set(numbers) == set([str(i) for i in range(len(numbers))])"
   ]
  },
  {
   "cell_type": "code",
   "execution_count": null,
   "id": "a189ff43",
   "metadata": {},
   "outputs": [],
   "source": [
    "vals = [data[f'actions_test_{i}'] for i in range(len(numbers))]"
   ]
  },
  {
   "cell_type": "code",
   "execution_count": null,
   "id": "4503fbec",
   "metadata": {},
   "outputs": [],
   "source": [
    "rows = []\n",
    "for i, el in enumerate(vals):\n",
    "    active_caption = el['caption']\n",
    "    active_foil = el['foil']\n",
    "    passive_caption = a2p.act2pass(active_caption)\n",
    "    passive_foil = a2p.act2pass(active_foil)\n",
    "    good_caption = (active_caption.lower().strip() != passive_caption.lower().strip())\n",
    "    good_foil = (active_foil.lower().strip() != passive_foil.lower().strip())\n",
    "    rows.append({'ac': active_caption, 'af': active_foil, 'pc': passive_caption, 'pf': passive_foil, 'gc': good_caption, 'gf': good_foil})"
   ]
  },
  {
   "cell_type": "code",
   "execution_count": null,
   "id": "18c78219",
   "metadata": {},
   "outputs": [],
   "source": [
    "df = pd.DataFrame(rows)"
   ]
  },
  {
   "cell_type": "code",
   "execution_count": null,
   "id": "322f7837",
   "metadata": {},
   "outputs": [],
   "source": [
    "print(f'There are {len(df)} sentences in total')"
   ]
  },
  {
   "cell_type": "code",
   "execution_count": null,
   "id": "95b35bdf",
   "metadata": {},
   "outputs": [],
   "source": [
    "print(f\"{len(df[df['gc'] == True])} sentences have good active-passive caption\")\n",
    "print(f\"{len(df[df['gf'] == True])} sentences have good active-passive foil\")\n",
    "print(f\"{len(df[(df['gc'] == True) & (df['gf'] == True)])} sentences have both caption and foil correctly converted\")"
   ]
  },
  {
   "cell_type": "markdown",
   "id": "4b17751e",
   "metadata": {},
   "source": [
    "The last number is the number of good active-passive alternations that we can work with."
   ]
  },
  {
   "cell_type": "code",
   "execution_count": null,
   "id": "b381ccc3",
   "metadata": {},
   "outputs": [],
   "source": []
  }
 ],
 "metadata": {
  "kernelspec": {
   "display_name": "Python 3 (ipykernel)",
   "language": "python",
   "name": "python3"
  },
  "language_info": {
   "codemirror_mode": {
    "name": "ipython",
    "version": 3
   },
   "file_extension": ".py",
   "mimetype": "text/x-python",
   "name": "python",
   "nbconvert_exporter": "python",
   "pygments_lexer": "ipython3",
   "version": "3.10.9"
  }
 },
 "nbformat": 4,
 "nbformat_minor": 5
}
